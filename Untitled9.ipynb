{
 "cells": [
  {
   "cell_type": "code",
   "execution_count": 1,
   "metadata": {},
   "outputs": [],
   "source": [
    "import pandas as pd\n",
    "import numpy as np\n",
    "import matplotlib.pyplot as plt\n",
    "from sklearn.ensemble import RandomForestRegressor, AdaBoostRegressor\n",
    "from sklearn.model_selection import train_test_split\n",
    "from sklearn.linear_model import LinearRegression, RANSACRegressor, LassoCV, Ridge, LassoLars\n",
    "from sklearn.tree import DecisionTreeRegressor\n",
    "from sklearn.ensemble import RandomForestRegressor\n",
    "from sklearn.pipeline import make_pipeline\n",
    "from sklearn.preprocessing import PolynomialFeatures"
   ]
  },
  {
   "cell_type": "code",
   "execution_count": 2,
   "metadata": {},
   "outputs": [],
   "source": [
    "train_data = pd.read_csv('train.csv', index_col='ID')\n",
    "train_data.dropna(inplace=True)\n",
    "train_data['month'] = train_data.apply(lambda x: str(x['date'])[2: 4], axis=1)\n",
    "# train_data['day'] = train_data.apply(lambda x: str(x['date'])[4: ], axis=1)\n",
    "train_data['price_log'] = np.log(train_data['price'].values)\n",
    "train_data['tdm_sqrt'] = np.sqrt(train_data['taxiDurationMin'].values)\n",
    "train_data.drop(['date', 'distanceKM', 'sourceLatitude', 'sourceLongitude', 'destinationLatitude', 'destinationLongitude', 'taxiDurationMin'], axis=1, inplace=True)\n",
    "dummies = pd.get_dummies(train_data)\n",
    "dummies.drop(['vehicleType_khavar', 'vehicleType_treili', 'vehicleOption_bari'], axis=1, inplace=True)"
   ]
  },
  {
   "cell_type": "code",
   "execution_count": 3,
   "metadata": {},
   "outputs": [],
   "source": [
    "X = dummies.drop('price', axis=1)\n",
    "y = dummies['price']"
   ]
  },
  {
   "cell_type": "code",
   "execution_count": 4,
   "metadata": {},
   "outputs": [],
   "source": [
    "def split_data(X, y):\n",
    "    bins = np.linspace(0, len(y), 100)\n",
    "    y_binned = np.digitize(y, bins)\n",
    "    x_train, x_test, y_train, y_test = train_test_split(X,\n",
    "                                                        y,\n",
    "                                                        test_size=0.3,\n",
    "                                                        stratify=y_binned)\n",
    "    return x_train, x_test, y_train, y_test"
   ]
  },
  {
   "cell_type": "code",
   "execution_count": 5,
   "metadata": {},
   "outputs": [],
   "source": [
    "x_train, x_test, y_train, y_test = split_data(X, y)"
   ]
  },
  {
   "cell_type": "code",
   "execution_count": 6,
   "metadata": {},
   "outputs": [],
   "source": [
    "def mean_absolute_percentage_error(y_true, y_pred):\n",
    "    return np.mean(np.abs((y_true - y_pred) / y_true)) * 100"
   ]
  },
  {
   "cell_type": "code",
   "execution_count": 7,
   "metadata": {},
   "outputs": [
    {
     "data": {
      "text/plain": [
       "75.0315335476181"
      ]
     },
     "execution_count": 7,
     "metadata": {},
     "output_type": "execute_result"
    }
   ],
   "source": [
    "baseline_guess = np.median(y_train)\n",
    "mean_absolute_percentage_error(y_test, baseline_guess)"
   ]
  },
  {
   "cell_type": "code",
   "execution_count": 8,
   "metadata": {},
   "outputs": [],
   "source": [
    "X = x_train.drop('price_log', axis=1)\n",
    "y = x_train['price_log']\n",
    "x_validation = x_test.drop('price_log', axis=1)\n",
    "y_validation = x_test['price_log']"
   ]
  },
  {
   "cell_type": "code",
   "execution_count": 9,
   "metadata": {},
   "outputs": [
    {
     "name": "stdout",
     "output_type": "stream",
     "text": [
      "r2_score on trining set:  0.834168439131\n",
      "MAPE on validation set:  24.51336082173021\n"
     ]
    }
   ],
   "source": [
    "lr = LinearRegression()\n",
    "lr.fit(X.values, y.values)\n",
    "print('r2_score on trining set: ', lr.score(X.values, y.values))\n",
    "y_pred = np.power(np.e, lr.predict(x_test.drop('price_log', axis=1).values))\n",
    "print('MAPE on validation set: ', mean_absolute_percentage_error(y_test, y_pred))"
   ]
  },
  {
   "cell_type": "code",
   "execution_count": 10,
   "metadata": {},
   "outputs": [
    {
     "data": {
      "text/plain": [
       "Text(0,0.5,'MAPE')"
      ]
     },
     "execution_count": 10,
     "metadata": {},
     "output_type": "execute_result"
    },
    {
     "data": {
      "image/png": "[encoded data removed]",
      "text/plain": [
       "<matplotlib.figure.Figure at 0x2622e3735f8>"
      ]
     },
     "metadata": {},
     "output_type": "display_data"
    }
   ],
   "source": [
    "training_error = []\n",
    "test_error = []\n",
    "for i in range(2, 80, 5):\n",
    "    rt = DecisionTreeRegressor(criterion='mse', min_samples_leaf=i)\n",
    "    rt.fit(X, y)\n",
    "    tr_pred = np.power(np.e, rt.predict(X))\n",
    "    tr_true = np.power(np.e, y)\n",
    "    training_error.append(mean_absolute_percentage_error(tr_true, tr_pred))\n",
    "    te_pred = np.power(np.e, rt.predict(x_validation))\n",
    "    te_true = np.power(np.e, y_validation)\n",
    "    test_error.append(mean_absolute_percentage_error(te_true, te_pred))\n",
    "\n",
    "steps = [i for i in range(2, 80, 5)]\n",
    "plt.plot(steps, training_error)\n",
    "plt.plot(steps, test_error)\n",
    "plt.title('training and testing error vs min samples in leaves.')\n",
    "plt.legend(['training', 'testing'])\n",
    "plt.xlabel('minimum sample in leaf')\n",
    "plt.ylabel('MAPE')"
   ]
  },
  {
   "cell_type": "code",
   "execution_count": null,
   "metadata": {},
   "outputs": [],
   "source": [
    "training_error = []\n",
    "test_error = []\n",
    "for i in range(int(np.sqrt(X.shape[1])), X.shape[1]):\n",
    "    rf = RandomForestRegressor(n_estimators=100, criterion='mse', n_jobs=6, max_features=i, min_samples_leaf=2)\n",
    "    rf.fit(X, y)\n",
    "    tr_pred = np.power(np.e, rf.predict(X))\n",
    "    tr_true = np.power(np.e, y)\n",
    "    training_error.append(mean_absolute_percentage_error(tr_true, tr_pred))\n",
    "    te_pred = np.power(np.e, rf.predict(x_validation))\n",
    "    te_true = np.power(np.e, y_validation)\n",
    "    test_error.append(mean_absolute_percentage_error(te_true, te_pred))\n",
    "\n",
    "steps = [i for i in range(int(np.sqrt(X.shape[1])), X.shape[1])]\n",
    "plt.plot(steps, training_error)\n",
    "plt.plot(steps, test_error)\n",
    "plt.title('training and testing error vs max_features.')\n",
    "plt.legend(['training', 'testing'])\n",
    "plt.xlable('max features in a split')\n",
    "plt.ylabel('MAPE')"
   ]
  },
  {
   "cell_type": "code",
   "execution_count": 17,
   "metadata": {},
   "outputs": [],
   "source": [
    "rt = DecisionTreeRegressor(criterion='mse', min_samples_leaf=50)\n",
    "rt.fit(X.drop('tdm_sqrt', axis=1), y)\n",
    "new_x = x_train.copy()\n",
    "new_x['leaf_index'] = rt.apply(X.drop('tdm_sqrt', axis=1))\n",
    "g = new_x.groupby('leaf_index')[['tdm_sqrt', 'price_log']]"
   ]
  },
  {
   "cell_type": "code",
   "execution_count": 19,
   "metadata": {},
   "outputs": [
    {
     "data": {
      "text/plain": [
       "array([[<matplotlib.axes._subplots.AxesSubplot object at 0x00000239BE817588>,\n",
       "        <matplotlib.axes._subplots.AxesSubplot object at 0x00000239BE84C278>],\n",
       "       [<matplotlib.axes._subplots.AxesSubplot object at 0x00000239BE887198>,\n",
       "        <matplotlib.axes._subplots.AxesSubplot object at 0x00000239BE8A33C8>]], dtype=object)"
      ]
     },
     "execution_count": 19,
     "metadata": {},
     "output_type": "execute_result"
    },
    {
     "data": {
      "image/png": "[encoded data removed]",
      "text/plain": [
       "<matplotlib.figure.Figure at 0x239bd7595c0>"
      ]
     },
     "metadata": {},
     "output_type": "display_data"
    }
   ],
   "source": [
    "pd.plotting.scatter_matrix(g.get_group(list(g.groups.keys())[110]))"
   ]
  },
  {
   "cell_type": "code",
   "execution_count": 40,
   "metadata": {},
   "outputs": [],
   "source": [
    "class MyRegressor:\n",
    "    def __init__(self, criterion='mse', min_samples_leaf=100, predictor='tdm_sqrt', output='price_log'):\n",
    "        self.model = DecisionTreeRegressor(criterion=criterion, min_samples_leaf=min_samples_leaf)\n",
    "        self.local_models = {}\n",
    "        self.predictor = predictor\n",
    "        self.output = output\n",
    "\n",
    "    def fit(self, X, y):\n",
    "        self.model.fit(X.drop(self.predictor, axis=1).values, y.values)\n",
    "        data_for_grouping = pd.concat([X, y], axis=1)\n",
    "        data_for_grouping['leaf'] = self.model.apply(X.drop(self.predictor, axis=1).values)\n",
    "        groups = data_for_grouping.groupby('leaf')[[self.predictor, self.output]]\n",
    "        for g in groups.groups.keys():\n",
    "            model = LinearRegression()\n",
    "            g_data = groups.get_group(g)\n",
    "            model.fit(g_data[self.predictor].values.reshape(-1, 1), g_data[self.output].values)\n",
    "            self.local_models[g] = model\n",
    "        \n",
    "    \n",
    "    def predict(self, X):\n",
    "        leaves = self.model.apply(X.drop(self.predictor, axis=1).values)\n",
    "        y_pred = np.array([self.local_models[leaf].predict(X.iloc[index][self.predictor]) for index, leaf in enumerate(leaves)])\n",
    "        return y_pred"
   ]
  },
  {
   "cell_type": "code",
   "execution_count": 41,
   "metadata": {},
   "outputs": [
    {
     "name": "stdout",
     "output_type": "stream",
     "text": [
      "MAPE for validation set:  27.89572169595833\n",
      "MAPE for training set:  26.00777965805534\n"
     ]
    }
   ],
   "source": [
    "regressor = MyRegressor(criterion='mse')\n",
    "regressor.fit(X, y)\n",
    "y_pred = np.power(np.e, regressor.predict(x_validation)[:, 0])\n",
    "print('MAPE for validation set: ', mean_absolute_percentage_error(y_true=np.power(np.e, y_validation), y_pred=y_pred))\n",
    "y_pred = np.power(np.e, regressor.predict(X)[:, 0])\n",
    "print('MAPE for training set: ', mean_absolute_percentage_error(y_true=np.power(np.e, y), y_pred=y_pred))"
   ]
  },
  {
   "cell_type": "code",
   "execution_count": null,
   "metadata": {},
   "outputs": [],
   "source": [
    "adaregressor = AdaBoostRegressor(DecisionTreeRegressor(min_samples_leaf=10, criterion='mse'), n_estimators=200)\n",
    "adaregressor.fit(X, y)\n",
    "y_pred = np.power(np.e, adaregressor.predict(X))\n",
    "y_true = np.power(np.e, y)\n",
    "print('MAPE for training set: ', mean_absolute_percentage_error(y_true, y_pred))\n",
    "y_pred = np.power(np.e, adaregressor.predict(x_validation))\n",
    "y_true = np.power(np.e, y_validation)\n",
    "print('MAPE for validation set: ', mean_absolute_percentage_error(y_true, y_pred))"
   ]
  },
  {
   "cell_type": "code",
   "execution_count": null,
   "metadata": {},
   "outputs": [],
   "source": [
    "model = RANSACRegressor(LinearRegression(), max_trials=200, min_samples=0.5, stop_score=0.95)\n",
    "model.fit(X.values, y.values)\n",
    "y_pred = np.power(np.e, model.predict(X))\n",
    "y_true = np.power(np.e, y)\n",
    "print(mean_absolute_percentage_error(y_true, ypred))\n",
    "y_pred = np.power(np.e, model.predict(x_te))\n",
    "y_true = np.power(np.e, y_te)\n",
    "print(mean_absolute_percentage_error(y_true, y_pred))"
   ]
  },
  {
   "cell_type": "code",
   "execution_count": null,
   "metadata": {},
   "outputs": [],
   "source": [
    "from sklearn.svm import SVR\n",
    "from sklearn.model_selection import GridSearchCV\n",
    "reg_svr = GridSearchCV(SVR(kernel='rbf', gamma=0.1), cv=5,\n",
    "                   param_grid={\"C\": [1e0, 1e1, 1e2, 1e3],\n",
    "                               \"gamma\": np.logspace(-2, 2, 5)})\n",
    "reg_svr.fit(X, y)"
   ]
  },
  {
   "cell_type": "code",
   "execution_count": null,
   "metadata": {},
   "outputs": [],
   "source": []
  }
 ],
 "metadata": {
  "kernelspec": {
   "display_name": "Python 3",
   "language": "python",
   "name": "python3"
  },
  "language_info": {
   "codemirror_mode": {
    "name": "ipython",
    "version": 3
   },
   "file_extension": ".py",
   "mimetype": "text/x-python",
   "name": "python",
   "nbconvert_exporter": "python",
   "pygments_lexer": "ipython3",
   "version": "3.6.4"
  }
 },
 "nbformat": 4,
 "nbformat_minor": 2
}
